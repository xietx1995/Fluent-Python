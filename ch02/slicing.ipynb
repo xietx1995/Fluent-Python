{
    "cells": [
        {
            "cell_type": "code",
            "execution_count": 1,
            "source": [
                "a = [10, 20, 30, 40, 50, 60]\n",
                "print(a[:2])\n",
                "print(a[2:])"
            ],
            "outputs": [
                {
                    "output_type": "stream",
                    "name": "stdout",
                    "text": [
                        "[10, 20]\n",
                        "[30, 40, 50, 60]\n"
                    ]
                }
            ],
            "metadata": {
                "collapsed": true
            }
        },
        {
            "cell_type": "code",
            "execution_count": 2,
            "source": [
                "s = 'bicycle'\n",
                "print(s[::3])\n",
                "print(s[::-1])\n",
                "print(s[::-2])"
            ],
            "outputs": [
                {
                    "output_type": "stream",
                    "name": "stdout",
                    "text": [
                        "bye\n",
                        "elcycib\n",
                        "eccb\n"
                    ]
                }
            ],
            "metadata": {}
        },
        {
            "cell_type": "code",
            "execution_count": 9,
            "source": [
                "invoice = \"\"\"\n",
                "0.....6................................40........52...55........\n",
                "1909  Pimoroni PiBrella                    $17.50    3    $52.50\n",
                "1489  6mm Tactile Switch x20                $4.95    2     $9.90\n",
                "1510  Panavise Jr. - PV-201                $28.00    1    $28.00\n",
                "1601  PiTFT Mini Kit 320x240               $34.95    1    $34.95\n",
                "\"\"\"\n",
                "SKU = slice(0, 6)\n",
                "DESCRIPTION = slice(6, 40)\n",
                "UNIT_PRICE = slice(40, 52)\n",
                "QUANTITY = slice(52, 55)\n",
                "ITEM_TOTAL = slice(55, None)\n",
                "line_items = invoice.split('\\n')[2:-1]"
            ],
            "outputs": [],
            "metadata": {}
        },
        {
            "cell_type": "code",
            "execution_count": 7,
            "source": [
                "for item in line_items:\n",
                "    print(item[DESCRIPTION], item[UNIT_PRICE])"
            ],
            "outputs": [
                {
                    "output_type": "stream",
                    "name": "stdout",
                    "text": [
                        "Pimoroni PiBrella                     $17.50   \n",
                        "6mm Tactile Switch x20                 $4.95   \n",
                        "Panavise Jr. - PV-201                 $28.00   \n",
                        "PiTFT Mini Kit 320x240                $34.95   \n"
                    ]
                }
            ],
            "metadata": {}
        },
        {
            "cell_type": "code",
            "execution_count": 10,
            "source": [
                "b = list(range(10))\n",
                "print(b)"
            ],
            "outputs": [
                {
                    "output_type": "stream",
                    "name": "stdout",
                    "text": [
                        "[0, 1, 2, 3, 4, 5, 6, 7, 8, 9]\n"
                    ]
                }
            ],
            "metadata": {}
        },
        {
            "cell_type": "code",
            "execution_count": 11,
            "source": [
                "b[2:5] = [20, 50]\n",
                "print(b)"
            ],
            "outputs": [
                {
                    "output_type": "stream",
                    "name": "stdout",
                    "text": [
                        "[0, 1, 20, 50, 5, 6, 7, 8, 9]\n"
                    ]
                }
            ],
            "metadata": {}
        },
        {
            "cell_type": "code",
            "execution_count": 12,
            "source": [
                "del b[2:5]\n",
                "print(b)"
            ],
            "outputs": [
                {
                    "output_type": "stream",
                    "name": "stdout",
                    "text": [
                        "[0, 1, 6, 7, 8, 9]\n"
                    ]
                }
            ],
            "metadata": {}
        },
        {
            "cell_type": "code",
            "execution_count": 14,
            "source": [
                "b[1::2] = [11, 12, 13]\n",
                "print(b)"
            ],
            "outputs": [
                {
                    "output_type": "stream",
                    "name": "stdout",
                    "text": [
                        "[0, 11, 6, 12, 8, 13]\n"
                    ]
                }
            ],
            "metadata": {}
        },
        {
            "cell_type": "code",
            "execution_count": 15,
            "source": [
                "c = [1, 2, 3]\n",
                "c * 3"
            ],
            "outputs": [
                {
                    "output_type": "execute_result",
                    "data": {
                        "text/plain": [
                            "[1, 2, 3, 1, 2, 3, 1, 2, 3]"
                        ]
                    },
                    "metadata": {},
                    "execution_count": 15
                }
            ],
            "metadata": {}
        },
        {
            "cell_type": "code",
            "execution_count": 16,
            "source": [
                "5 * 'abcd'"
            ],
            "outputs": [
                {
                    "output_type": "execute_result",
                    "data": {
                        "text/plain": [
                            "'abcdabcdabcdabcdabcd'"
                        ]
                    },
                    "metadata": {},
                    "execution_count": 16
                }
            ],
            "metadata": {}
        },
        {
            "cell_type": "code",
            "execution_count": 18,
            "source": [
                "x = [c] * 3 # 三个元素其实是三个对c的引用\n",
                "print(x)\n",
                "c[0] = -1\n",
                "print(x)"
            ],
            "outputs": [
                {
                    "output_type": "stream",
                    "name": "stdout",
                    "text": [
                        "[[1, 2, 3], [1, 2, 3], [1, 2, 3]]\n",
                        "[[-1, 2, 3], [-1, 2, 3], [-1, 2, 3]]\n"
                    ]
                }
            ],
            "metadata": {}
        },
        {
            "cell_type": "code",
            "execution_count": 19,
            "source": [
                "board = [['_'] * 3 for i in range(3)]\n",
                "print(board)"
            ],
            "outputs": [
                {
                    "output_type": "stream",
                    "name": "stdout",
                    "text": [
                        "[['_', '_', '_'], ['_', '_', '_'], ['_', '_', '_']]\n"
                    ]
                }
            ],
            "metadata": {}
        },
        {
            "cell_type": "code",
            "execution_count": 20,
            "source": [
                "board[1][2] = 'X'\n",
                "print(board)"
            ],
            "outputs": [
                {
                    "output_type": "stream",
                    "name": "stdout",
                    "text": [
                        "[['_', '_', '_'], ['_', '_', 'X'], ['_', '_', '_']]\n"
                    ]
                }
            ],
            "metadata": {}
        },
        {
            "cell_type": "code",
            "execution_count": 21,
            "source": [
                "weird_board = [['_'] * 3] * 3\n",
                "print(weird_board)\n",
                "weird_board[1][2] = 'O'\n",
                "print(weird_board)"
            ],
            "outputs": [
                {
                    "output_type": "stream",
                    "name": "stdout",
                    "text": [
                        "[['_', '_', '_'], ['_', '_', '_'], ['_', '_', '_']]\n",
                        "[['_', '_', 'O'], ['_', '_', 'O'], ['_', '_', 'O']]\n"
                    ]
                }
            ],
            "metadata": {}
        },
        {
            "cell_type": "code",
            "execution_count": 26,
            "source": [
                "a = [1, 2, 3]\n",
                "print(a)\n",
                "print(id(a))"
            ],
            "outputs": [
                {
                    "output_type": "stream",
                    "name": "stdout",
                    "text": [
                        "[1, 2, 3]\n",
                        "140544215871680\n"
                    ]
                }
            ],
            "metadata": {}
        },
        {
            "cell_type": "code",
            "execution_count": 27,
            "source": [
                "a *= 3\n",
                "print(a)\n",
                "print(id(a))"
            ],
            "outputs": [
                {
                    "output_type": "stream",
                    "name": "stdout",
                    "text": [
                        "[1, 2, 3, 1, 2, 3, 1, 2, 3]\n",
                        "140544215871680\n"
                    ]
                }
            ],
            "metadata": {}
        },
        {
            "cell_type": "code",
            "execution_count": 28,
            "source": [
                "a = (1, 2, 3)\n",
                "print(id(a))\n",
                "a *= 3\n",
                "print(id(a))"
            ],
            "outputs": [
                {
                    "output_type": "stream",
                    "name": "stdout",
                    "text": [
                        "140544215737472\n",
                        "140544193388944\n"
                    ]
                }
            ],
            "metadata": {}
        },
        {
            "cell_type": "code",
            "execution_count": 29,
            "source": [
                "# 不要再tuple中使用可变对象\n",
                "t = (1, 2, [30, 40])\n",
                "t[2] += [50, 60]"
            ],
            "outputs": [
                {
                    "output_type": "error",
                    "ename": "TypeError",
                    "evalue": "'tuple' object does not support item assignment",
                    "traceback": [
                        "\u001b[0;31m---------------------------------------------------------------------------\u001b[0m",
                        "\u001b[0;31mTypeError\u001b[0m                                 Traceback (most recent call last)",
                        "\u001b[0;32m<ipython-input-29-185139e4ca79>\u001b[0m in \u001b[0;36m<module>\u001b[0;34m\u001b[0m\n\u001b[1;32m      1\u001b[0m \u001b[0mt\u001b[0m \u001b[0;34m=\u001b[0m \u001b[0;34m(\u001b[0m\u001b[0;36m1\u001b[0m\u001b[0;34m,\u001b[0m \u001b[0;36m2\u001b[0m\u001b[0;34m,\u001b[0m \u001b[0;34m[\u001b[0m\u001b[0;36m30\u001b[0m\u001b[0;34m,\u001b[0m \u001b[0;36m40\u001b[0m\u001b[0;34m]\u001b[0m\u001b[0;34m)\u001b[0m\u001b[0;34m\u001b[0m\u001b[0;34m\u001b[0m\u001b[0m\n\u001b[0;32m----> 2\u001b[0;31m \u001b[0mt\u001b[0m\u001b[0;34m[\u001b[0m\u001b[0;36m2\u001b[0m\u001b[0;34m]\u001b[0m \u001b[0;34m+=\u001b[0m \u001b[0;34m[\u001b[0m\u001b[0;36m50\u001b[0m\u001b[0;34m,\u001b[0m \u001b[0;36m60\u001b[0m\u001b[0;34m]\u001b[0m\u001b[0;34m\u001b[0m\u001b[0;34m\u001b[0m\u001b[0m\n\u001b[0m\u001b[1;32m      3\u001b[0m \u001b[0mprint\u001b[0m\u001b[0;34m(\u001b[0m\u001b[0mt\u001b[0m\u001b[0;34m)\u001b[0m\u001b[0;34m\u001b[0m\u001b[0;34m\u001b[0m\u001b[0m\n",
                        "\u001b[0;31mTypeError\u001b[0m: 'tuple' object does not support item assignment"
                    ]
                }
            ],
            "metadata": {}
        },
        {
            "cell_type": "code",
            "execution_count": 30,
            "source": [
                "print(t)"
            ],
            "outputs": [
                {
                    "output_type": "stream",
                    "name": "stdout",
                    "text": [
                        "(1, 2, [30, 40, 50, 60])\n"
                    ]
                }
            ],
            "metadata": {}
        },
        {
            "cell_type": "code",
            "execution_count": 31,
            "source": [
                "import dis\n",
                "dis.dis('s[a] += b')"
            ],
            "outputs": [
                {
                    "output_type": "stream",
                    "name": "stdout",
                    "text": [
                        "  1           0 LOAD_NAME                0 (s)\n",
                        "              2 LOAD_NAME                1 (a)\n",
                        "              4 DUP_TOP_TWO\n",
                        "              6 BINARY_SUBSCR\n",
                        "              8 LOAD_NAME                2 (b)\n",
                        "             10 INPLACE_ADD\n",
                        "             12 ROT_THREE\n",
                        "             14 STORE_SUBSCR\n",
                        "             16 LOAD_CONST               0 (None)\n",
                        "             18 RETURN_VALUE\n"
                    ]
                }
            ],
            "metadata": {}
        }
    ],
    "metadata": {
        "kernelspec": {
            "name": "python3",
            "display_name": "Python 3.8.8 64-bit ('base': conda)"
        },
        "language_info": {
            "name": "python",
            "version": "3.8.8",
            "mimetype": "text/x-python",
            "codemirror_mode": {
                "name": "ipython",
                "version": 3
            },
            "pygments_lexer": "ipython3",
            "nbconvert_exporter": "python",
            "file_extension": ".py"
        },
        "interpreter": {
            "hash": "5e886d71015ffe47dc118a71c0ad8156aa3f28221a7f829f166d466bbff7dc39"
        }
    },
    "nbformat": 4,
    "nbformat_minor": 2
}