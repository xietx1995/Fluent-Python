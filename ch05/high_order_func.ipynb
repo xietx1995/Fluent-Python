{
 "cells": [
  {
   "cell_type": "code",
   "execution_count": 1,
   "source": [
    "fruits = ['strawberry', 'fig', 'apple', 'cherry', 'raspberry', 'banana']\n",
    "sorted(fruits, key=len)"
   ],
   "outputs": [
    {
     "output_type": "execute_result",
     "data": {
      "text/plain": [
       "['fig', 'apple', 'cherry', 'banana', 'raspberry', 'strawberry']"
      ]
     },
     "metadata": {},
     "execution_count": 1
    }
   ],
   "metadata": {}
  },
  {
   "cell_type": "code",
   "execution_count": 2,
   "source": [
    "def reverse(word):\n",
    "    return word[::-1]\n",
    "\n",
    "reverse('testing')"
   ],
   "outputs": [
    {
     "output_type": "execute_result",
     "data": {
      "text/plain": [
       "'gnitset'"
      ]
     },
     "metadata": {},
     "execution_count": 2
    }
   ],
   "metadata": {}
  },
  {
   "cell_type": "code",
   "execution_count": 3,
   "source": [
    "sorted(fruits, key=reverse)"
   ],
   "outputs": [
    {
     "output_type": "execute_result",
     "data": {
      "text/plain": [
       "['banana', 'apple', 'fig', 'raspberry', 'strawberry', 'cherry']"
      ]
     },
     "metadata": {},
     "execution_count": 3
    }
   ],
   "metadata": {}
  },
  {
   "cell_type": "code",
   "execution_count": null,
   "source": [],
   "outputs": [],
   "metadata": {}
  }
 ],
 "metadata": {
  "orig_nbformat": 4,
  "language_info": {
   "name": "python",
   "version": "3.8.8",
   "mimetype": "text/x-python",
   "codemirror_mode": {
    "name": "ipython",
    "version": 3
   },
   "pygments_lexer": "ipython3",
   "nbconvert_exporter": "python",
   "file_extension": ".py"
  },
  "kernelspec": {
   "name": "python3",
   "display_name": "Python 3.8.8 64-bit ('base': conda)"
  },
  "interpreter": {
   "hash": "5e886d71015ffe47dc118a71c0ad8156aa3f28221a7f829f166d466bbff7dc39"
  }
 },
 "nbformat": 4,
 "nbformat_minor": 2
}